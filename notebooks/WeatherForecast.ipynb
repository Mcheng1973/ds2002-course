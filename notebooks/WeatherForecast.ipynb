{
  "nbformat": 4,
  "nbformat_minor": 0,
  "metadata": {
    "colab": {
      "provenance": [],
      "authorship_tag": "ABX9TyPeqloZdjHkIdZEH0hw+zlO",
      "include_colab_link": true
    },
    "kernelspec": {
      "name": "python3",
      "display_name": "Python 3"
    },
    "language_info": {
      "name": "python"
    }
  },
  "cells": [
    {
      "cell_type": "markdown",
      "metadata": {
        "id": "view-in-github",
        "colab_type": "text"
      },
      "source": [
        "<a href=\"https://colab.research.google.com/github/nmagee/ds2002-course/blob/main/notebooks/WeatherForecast.ipynb\" target=\"_parent\"><img src=\"https://colab.research.google.com/assets/colab-badge.svg\" alt=\"Open In Colab\"/></a>"
      ]
    },
    {
      "cell_type": "code",
      "execution_count": null,
      "metadata": {
        "id": "srDvRkEvTSEV"
      },
      "outputs": [],
      "source": [
        "import urllib.parse\n",
        "import urllib.request\n",
        "import json\n",
        "import time\n",
        "import matplotlib.pyplot as plt\n",
        "import pandas as pd\n",
        "\n",
        "WEATHER_KEY=\"C8A6DMCU4M4MLSWESCT3W6LSC\"\n",
        "LOCATION=\"Charlottesville,VA\"\n",
        "UNIT_GROUP=\"us\"\n",
        "\n",
        "def getWeatherForecast():\n",
        "         requestUrl = \"https://weather.visualcrossing.com/VisualCrossingWebServices/rest/services/timeline/\" + urllib.parse.quote_plus(LOCATION)\n",
        "         requestUrl = requestUrl+\"?key=\"+WEATHER_KEY+\"&unitGroup=\"+UNIT_GROUP+\"&include=days\";\n",
        "\n",
        "         print('Weather requestUrl={requestUrl}'.format(requestUrl=requestUrl))\n",
        "\n",
        "         try:\n",
        "                 req = urllib.request.urlopen(requestUrl)\n",
        "         except:\n",
        "                 print(\"Could not read from:\"+requestUrl);\n",
        "                 return []\n",
        "\n",
        "         rawForecastData = req.read()\n",
        "         req.close()\n",
        "         return json.loads(rawForecastData)\n",
        "\n",
        "weatherForecast = getWeatherForecast()\n",
        "\n",
        "print('Weather forecast for {location}'.format(location=weatherForecast['resolvedAddress']))\n",
        "days=weatherForecast['days'];\n",
        "\n",
        "for day in days[0:5]:\n",
        "    print('{datetime} max: {tempmax} min: {tempmin} forecast: {description}'.format(datetime=day['datetime'], tempmax=day[\"tempmax\"], tempmin=day[\"tempmin\"], description=day[\"description\"]))\n"
      ]
    }
  ]
}